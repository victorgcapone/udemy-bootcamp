{
 "cells": [
  {
   "cell_type": "markdown",
   "metadata": {},
   "source": [
    "## Hoe to improve our models\n",
    "\n",
    "Most of the time, the first model you trains on a task you not be the last, but it is useful nonethless as a baseline which we will strive to improve on, ussualy this can be done in a feew ways\n",
    "\n",
    "1. Collect more data\n",
    "2. Improve our data (AKA Feature Engineering)\n",
    "3. Select a better model\n",
    "4. Tweak our model's hyperparameters\n",
    "\n",
    "We will focus on 3 and 4 for now\n",
    "\n",
    "Note: Hyperparameters are used by us to try and improve our model, they are diffrente from parameters which are learned by the model during training and used during the prediction process"
   ]
  },
  {
   "cell_type": "code",
   "execution_count": 1,
   "metadata": {},
   "outputs": [],
   "source": [
    "import pandas as pd\n",
    "import numpy as np\n",
    "import matplotlib.pyplot as plt\n",
    "%matplotlib inline"
   ]
  },
  {
   "cell_type": "code",
   "execution_count": 2,
   "metadata": {},
   "outputs": [],
   "source": [
    "heart_disease = pd.read_csv(\"resources/heart-disease.csv\")\n",
    "x = heart_disease.drop(\"target\", axis=1)\n",
    "y = heart_disease[\"target\"]"
   ]
  },
  {
   "cell_type": "code",
   "execution_count": 3,
   "metadata": {},
   "outputs": [],
   "source": [
    "from sklearn.ensemble import RandomForestClassifier\n",
    "rfr = RandomForestClassifier()"
   ]
  },
  {
   "cell_type": "code",
   "execution_count": 4,
   "metadata": {},
   "outputs": [
    {
     "data": {
      "text/plain": [
       "{'bootstrap': True,\n",
       " 'ccp_alpha': 0.0,\n",
       " 'class_weight': None,\n",
       " 'criterion': 'gini',\n",
       " 'max_depth': None,\n",
       " 'max_features': 'auto',\n",
       " 'max_leaf_nodes': None,\n",
       " 'max_samples': None,\n",
       " 'min_impurity_decrease': 0.0,\n",
       " 'min_impurity_split': None,\n",
       " 'min_samples_leaf': 1,\n",
       " 'min_samples_split': 2,\n",
       " 'min_weight_fraction_leaf': 0.0,\n",
       " 'n_estimators': 100,\n",
       " 'n_jobs': None,\n",
       " 'oob_score': False,\n",
       " 'random_state': None,\n",
       " 'verbose': 0,\n",
       " 'warm_start': False}"
      ]
     },
     "execution_count": 4,
     "metadata": {},
     "output_type": "execute_result"
    }
   ],
   "source": [
    "# Lets see what are our hyperparameters for a RandomForestClassifiers\n",
    "rfr.get_params()"
   ]
  },
  {
   "cell_type": "markdown",
   "metadata": {},
   "source": [
    "Now that we have a baseline model and score (accuracy in this case) we can tune our hyperparameters to see if we can do better, there are 3 ways to do that\n",
    "\n",
    "1. Trial-and-error\n",
    "2. Random Search with RandomSearchCV\n",
    "3. Exhaustive Search with GridSearchCV\n",
    "\n",
    "In any case, hyperparameter tuning introduces another dataset, the validation set, which is separated from the training and test sets"
   ]
  },
  {
   "cell_type": "code",
   "execution_count": 5,
   "metadata": {},
   "outputs": [],
   "source": [
    "np.random.seed(42)\n",
    "# Shuffle the data so we get random intances in each split\n",
    "shuffled = heart_disease.sample(frac=1)\n",
    "\n",
    "# Split x and y\n",
    "x = heart_disease.drop(\"target\", axis=1)\n",
    "y = heart_disease[\"target\"]\n",
    "\n",
    "# Compute training and validation split points\n",
    "train_split = int(0.7 * len(x))\n",
    "val_split = train_split + int(0.15 * train_split)\n",
    "\n",
    "# Splite the data\n",
    "x_train, y_train = x[:train_split], y[:train_split]\n",
    "x_val, y_val = x[train_split:val_split], y[train_split: val_split]\n",
    "x_test, y_test = x[val_split:], y[val_split]"
   ]
  },
  {
   "cell_type": "code",
   "execution_count": 6,
   "metadata": {},
   "outputs": [
    {
     "data": {
      "text/plain": [
       "0.7419354838709677"
      ]
     },
     "execution_count": 6,
     "metadata": {},
     "output_type": "execute_result"
    }
   ],
   "source": [
    "# Train and score the baseline classificator\n",
    "baseline = RandomForestClassifier()\n",
    "baseline.fit(x_train, y_train)\n",
    "baseline.score(x_val, y_val)"
   ]
  },
  {
   "cell_type": "code",
   "execution_count": 7,
   "metadata": {},
   "outputs": [
    {
     "data": {
      "text/plain": [
       "0.7419354838709677"
      ]
     },
     "execution_count": 7,
     "metadata": {},
     "output_type": "execute_result"
    }
   ],
   "source": [
    "# Traing a classificator with the hyperparameters tuned by hand\n",
    "by_hand = RandomForestClassifier(max_depth=10)\n",
    "by_hand.fit(x_train, y_train)\n",
    "by_hand.score(x_val, y_val)"
   ]
  },
  {
   "cell_type": "markdown",
   "metadata": {},
   "source": [
    "In this case, changing the hyperparameters did not improve the model's accuracy, also, tuning each hyperparameter by hand looking for the optimal combination is a lot of work, of course Sklearn can help us tune our models!"
   ]
  },
  {
   "cell_type": "code",
   "execution_count": 8,
   "metadata": {},
   "outputs": [
    {
     "data": {
      "text/plain": [
       "RandomizedSearchCV(cv=5, estimator=RandomForestClassifier(n_jobs=-1),\n",
       "                   param_distributions={'max_depth': [None, 5, 10, 20, 30],\n",
       "                                        'max_features': ['auto', 'sqrt'],\n",
       "                                        'min_samples_leaf': [1, 2, 4],\n",
       "                                        'min_samples_split': [2, 4, 6],\n",
       "                                        'n_estimators': [10, 100, 200, 500,\n",
       "                                                         1000, 1200]})"
      ]
     },
     "execution_count": 8,
     "metadata": {},
     "output_type": "execute_result"
    }
   ],
   "source": [
    "from sklearn.model_selection import RandomizedSearchCV, train_test_split\n",
    "\n",
    "# RandomSearchCV creates our validation tests by itself, no need to do it by hand\n",
    "x_train, x_test, y_train, y_test = train_test_split(x,y, test_size=0.3)\n",
    "\n",
    "# the grid of possible values to choose from for each hyperparameter\n",
    "# note that the dict keys match the hypeparameter names from .get_params()\n",
    "grid = {\n",
    "    'n_estimators': [10, 100, 200, 500, 1000, 1200],\n",
    "    'max_depth': [None, 5, 10, 20, 30] ,\n",
    "    'max_features': [\"auto\", \"sqrt\"],\n",
    "    'min_samples_split': [2, 4, 6],\n",
    "    'min_samples_leaf' : [1,2,4]\n",
    "}\n",
    "\n",
    "np.random.seed(42)\n",
    "\n",
    "# RandomSearchCV will try random combinations of hyperparameters\n",
    "random_cv = RandomizedSearchCV(RandomForestClassifier(n_jobs=-1), \n",
    "                               grid, \n",
    "                               cv=5, \n",
    "                               n_iter=10)\n",
    "# Fit the model\n",
    "random_cv.fit(x_train, y_train)"
   ]
  },
  {
   "cell_type": "code",
   "execution_count": 9,
   "metadata": {},
   "outputs": [
    {
     "data": {
      "text/plain": [
       "{'n_estimators': 1000,\n",
       " 'min_samples_split': 2,\n",
       " 'min_samples_leaf': 4,\n",
       " 'max_features': 'sqrt',\n",
       " 'max_depth': 20}"
      ]
     },
     "execution_count": 9,
     "metadata": {},
     "output_type": "execute_result"
    }
   ],
   "source": [
    "# Lets take a look at the best combination found\n",
    "random_cv.best_params_"
   ]
  },
  {
   "cell_type": "code",
   "execution_count": 10,
   "metadata": {},
   "outputs": [
    {
     "data": {
      "text/plain": [
       "0.8131868131868132"
      ]
     },
     "execution_count": 10,
     "metadata": {},
     "output_type": "execute_result"
    }
   ],
   "source": [
    "# And we can use the best estimator\n",
    "random_cv.best_estimator_.score(x_test, y_test)"
   ]
  },
  {
   "cell_type": "markdown",
   "metadata": {},
   "source": [
    "As we can see, RandomSearchCV found a better set of hyperparameter and improved our model,\n",
    "still there is one other way to optimize your hyperparameters: Grid Search"
   ]
  },
  {
   "cell_type": "code",
   "execution_count": 15,
   "metadata": {},
   "outputs": [
    {
     "data": {
      "text/plain": [
       "GridSearchCV(cv=5, estimator=RandomForestClassifier(),\n",
       "             param_grid={'max_depth': [None, 5, 10],\n",
       "                         'max_features': ['auto', 'sqrt'],\n",
       "                         'min_samples_leaf': [1, 2],\n",
       "                         'min_samples_split': [2, 4],\n",
       "                         'n_estimators': [10, 100, 200]})"
      ]
     },
     "execution_count": 15,
     "metadata": {},
     "output_type": "execute_result"
    }
   ],
   "source": [
    "# Grid Search will try every possible combination of parameters from our grid\n",
    "from sklearn.model_selection import GridSearchCV\n",
    "\n",
    "# Since it does an exhaustive search, it will may take a long time\n",
    "# specially if we have a really big dataset or Parameter Grid\n",
    "grid_2 = {\n",
    "    'n_estimators': [10, 100, 200],\n",
    "    'max_depth': [None, 5, 10] ,\n",
    "    'max_features': [\"auto\", \"sqrt\"],\n",
    "    'min_samples_split': [2, 4],\n",
    "    'min_samples_leaf' : [1, 2]\n",
    "}\n",
    "\n",
    "grid_cv = GridSearchCV(RandomForestClassifier(), grid_2, cv=5)\n",
    "\n",
    "grid_cv.fit(x_train, y_train)"
   ]
  },
  {
   "cell_type": "code",
   "execution_count": 16,
   "metadata": {},
   "outputs": [
    {
     "data": {
      "text/plain": [
       "{'max_depth': 5,\n",
       " 'max_features': 'auto',\n",
       " 'min_samples_leaf': 2,\n",
       " 'min_samples_split': 2,\n",
       " 'n_estimators': 10}"
      ]
     },
     "execution_count": 16,
     "metadata": {},
     "output_type": "execute_result"
    }
   ],
   "source": [
    "grid_cv.best_params_"
   ]
  },
  {
   "cell_type": "code",
   "execution_count": 17,
   "metadata": {},
   "outputs": [
    {
     "data": {
      "text/plain": [
       "0.8241758241758241"
      ]
     },
     "execution_count": 17,
     "metadata": {},
     "output_type": "execute_result"
    }
   ],
   "source": [
    "grid_cv.best_estimator_.score(x_test, y_test)"
   ]
  },
  {
   "cell_type": "markdown",
   "metadata": {},
   "source": [
    "Again, the GridSearchCV shows some improvement over the baseline model"
   ]
  }
 ],
 "metadata": {
  "kernelspec": {
   "display_name": "Python (udemy)",
   "language": "python",
   "name": "myenv"
  },
  "language_info": {
   "codemirror_mode": {
    "name": "ipython",
    "version": 3
   },
   "file_extension": ".py",
   "mimetype": "text/x-python",
   "name": "python",
   "nbconvert_exporter": "python",
   "pygments_lexer": "ipython3",
   "version": "3.8.5"
  }
 },
 "nbformat": 4,
 "nbformat_minor": 4
}
